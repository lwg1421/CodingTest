{
 "cells": [
  {
   "attachments": {},
   "cell_type": "markdown",
   "metadata": {},
   "source": [
    "# 1193번\n",
    "\n",
    ">> 이와 같이 나열된 분수들을 1/1 → 1/2 → 2/1 → 3/1 → 2/2 → … 과 같은 지그재그 순서로 차례대로 1번, 2번, 3번, 4번, 5번, … 분수라고 하자.\n",
    "\n",
    "X가 주어졌을 때, X번째 분수를 구하는 프로그램을 작성하시오."
   ]
  },
  {
   "cell_type": "code",
   "execution_count": 25,
   "metadata": {},
   "outputs": [
    {
     "name": "stdout",
     "output_type": "stream",
     "text": [
      "몇번째 줄?\n",
      "4\n",
      "인덱스는?\n",
      "3\n",
      "2/3\n"
     ]
    }
   ],
   "source": [
    "# 값을 입력받는다.\n",
    "X = int(input())\n",
    "\n",
    "# 몇번째 줄인지 찾는다\n",
    "sum = 1\n",
    "i = 2\n",
    "while X>sum :\n",
    "    sum +=i\n",
    "    i+=1\n",
    "\n",
    "# print(\"몇번째 줄?\")\n",
    "# print(i-1)\n",
    "\n",
    "# #인덱스 구하기 위해\n",
    "# print(\"인덱스는?\")\n",
    "index_num = sum-X+1\n",
    "# print(index_num)\n",
    "\n",
    "# 짝수줄이면 첫째 값이 정방향 증가\n",
    "# 홀수면 첫번째 값은 i-index_num\n",
    "# 두번째 값은 index_num\n",
    "if (i-1) % 2 == 0 :\n",
    "    first = i-index_num\n",
    "    second = index_num\n",
    "    print(\"{}/{}\".format(first,second))\n",
    "\n",
    "\n",
    "# 홀수줄이면 첫째 값이 역방향 증가\n",
    "# 홀수면 첫번째 값은 index_num\n",
    "# 두번째 값은 i-index_num\n",
    "if (i-1) % 2 != 0 :\n",
    "    first = index_num\n",
    "    second = i-index_num\n",
    "    print(\"{}/{}\".format(first,second))\n",
    "\n"
   ]
  },
  {
   "cell_type": "code",
   "execution_count": null,
   "metadata": {},
   "outputs": [],
   "source": []
  }
 ],
 "metadata": {
  "kernelspec": {
   "display_name": "Python 3",
   "language": "python",
   "name": "python3"
  },
  "language_info": {
   "codemirror_mode": {
    "name": "ipython",
    "version": 3
   },
   "file_extension": ".py",
   "mimetype": "text/x-python",
   "name": "python",
   "nbconvert_exporter": "python",
   "pygments_lexer": "ipython3",
   "version": "3.9.9"
  },
  "orig_nbformat": 4,
  "vscode": {
   "interpreter": {
    "hash": "20917bf6f99d1a5ddbc5e28f9055f09f315bcc64bccda888d1f584e60d3b17d4"
   }
  }
 },
 "nbformat": 4,
 "nbformat_minor": 2
}
