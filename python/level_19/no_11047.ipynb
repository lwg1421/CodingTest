{
 "cells": [
  {
   "attachments": {},
   "cell_type": "markdown",
   "metadata": {},
   "source": [
    "# 11047번"
   ]
  },
  {
   "cell_type": "code",
   "execution_count": null,
   "metadata": {},
   "outputs": [],
   "source": [
    "N,K = map(int,input().split())\n",
    "coin_list =[]\n",
    "for i in range(N):\n",
    "    coin_list.append(int(input()))\n",
    "\n",
    "count = 0\n",
    "coin_list.reverse()\n",
    "for coin in coin_list:\n",
    "    count += (K//coin)\n",
    "    K -= coin*(K//coin)\n",
    "\n",
    "print(count)"
   ]
  }
 ],
 "metadata": {
  "language_info": {
   "name": "python"
  },
  "orig_nbformat": 4
 },
 "nbformat": 4,
 "nbformat_minor": 2
}
