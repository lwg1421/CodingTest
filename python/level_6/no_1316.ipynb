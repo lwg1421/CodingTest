{
 "cells": [
  {
   "attachments": {},
   "cell_type": "markdown",
   "metadata": {},
   "source": [
    "# 1316번\n",
    "\n",
    ">> 그룹 단어란 단어에 존재하는 모든 문자에 대해서, 각 문자가 연속해서 나타나는 경우만을 말한다. 예를 들면, ccazzzzbb는 c, a, z, b가 모두 연속해서 나타나고, kin도 k, i, n이 연속해서 나타나기 때문에 그룹 단어이지만, aabbbccb는 b가 떨어져서 나타나기 때문에 그룹 단어가 아니다.\n",
    "\n",
    ">> 단어 N개를 입력으로 받아 그룹 단어의 개수를 출력하는 프로그램을 작성하시오."
   ]
  },
  {
   "cell_type": "code",
   "execution_count": null,
   "metadata": {},
   "outputs": [],
   "source": [
    "# 단어 N개\n",
    "\n",
    "# N개의 단어 입력\n",
    "\n",
    "# 단어에 쓰인 문자를 담을 리스트 생성\n",
    "\n",
    "# 단어의 각 글자를 한글자씩 리스트에 담는다\n",
    "\n",
    "# 리스트에서 중복값을 제거한다.(list->set->list)\n",
    "\n",
    "# 중복이 없는 리스트에서 각 알파벳이 단어에 몇번 쓰였는지 센다.\n",
    "\n",
    "\n",
    "# count가 1인것이 있다면"
   ]
  },
  {
   "cell_type": "code",
   "execution_count": 2,
   "metadata": {},
   "outputs": [
    {
     "data": {
      "text/plain": [
       "'abbcca'"
      ]
     },
     "execution_count": 2,
     "metadata": {},
     "output_type": "execute_result"
    }
   ],
   "source": [
    "a = \"abbcca\"\n",
    "a.index(a)\n",
    "a.replace(\"a\",\"\")\n",
    "a"
   ]
  },
  {
   "cell_type": "code",
   "execution_count": null,
   "metadata": {},
   "outputs": [],
   "source": [
    "# 단어를 입력받음\n",
    "\n",
    "# 단어의 각 글자를 리스트에 담음\n",
    "\n",
    "# 리스트에서 해당 문자의 인덱스를 다 가져옴\n",
    "\n",
    "# 리스트에서 해당 문자의 등장 횟수를 카운트함\n",
    "\n",
    "# 리스트에서 해당 문자의 가장 마지막 인덱스에서 해당 문자의 첫 등장 인덱스를 가져옴\n",
    "\n",
    "# 해당 문자 등장 횟수를 카운트 한것과 처음,마지막의 차이를 비교하여 중간에 끊긴 부분이 있는지 확인"
   ]
  }
 ],
 "metadata": {
  "kernelspec": {
   "display_name": "Python 3",
   "language": "python",
   "name": "python3"
  },
  "language_info": {
   "codemirror_mode": {
    "name": "ipython",
    "version": 3
   },
   "file_extension": ".py",
   "mimetype": "text/x-python",
   "name": "python",
   "nbconvert_exporter": "python",
   "pygments_lexer": "ipython3",
   "version": "3.9.9"
  },
  "orig_nbformat": 4,
  "vscode": {
   "interpreter": {
    "hash": "20917bf6f99d1a5ddbc5e28f9055f09f315bcc64bccda888d1f584e60d3b17d4"
   }
  }
 },
 "nbformat": 4,
 "nbformat_minor": 2
}
