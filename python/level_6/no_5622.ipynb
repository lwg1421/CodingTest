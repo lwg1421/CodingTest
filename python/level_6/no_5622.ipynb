{
 "cells": [
  {
   "attachments": {},
   "cell_type": "markdown",
   "metadata": {},
   "source": [
    "# 5622번\n",
    ">> 전화를 걸고 싶은 번호가 있다면, 숫자를 하나를 누른 다음에 금속 핀이 있는 곳 까지 시계방향으로 돌려야 한다. 숫자를 하나 누르면 다이얼이 처음 위치로 돌아가고, 다음 숫자를 누르려면 다이얼을 처음 위치에서 다시 돌려야 한다.\n",
    "\n",
    ">> 숫자 1을 걸려면 총 2초가 필요하다. 1보다 큰 수를 거는데 걸리는 시간은 이보다 더 걸리며, 한 칸 옆에 있는 숫자를 걸기 위해선 1초씩 더 걸린다.\n",
    "\n",
    ">> 상근이의 할머니는 전화 번호를 각 숫자에 해당하는 문자로 외운다. 즉, 어떤 단어를 걸 때, 각 알파벳에 해당하는 숫자를 걸면 된다. 예를 들어, UNUCIC는 868242와 같다.\n",
    "\n",
    ">> 할머니가 외운 단어가 주어졌을 때, 이 전화를 걸기 위해서 필요한 최소 시간을 구하는 프로그램을 작성하시오."
   ]
  },
  {
   "cell_type": "code",
   "execution_count": null,
   "metadata": {},
   "outputs": [],
   "source": [
    "# 문자를 받는다.\n",
    "word = input()\n",
    "\n",
    "word_list = []\n",
    "for i in range(0,len(word),1):\n",
    "    word_list.append(word[i])\n",
    "\n",
    "# 우선 문자를 숫자로 바꿔준다.\n",
    "word_replace_count =[]\n",
    "for j in word_list:\n",
    "    if j in [\"A\",\"B\",\"C\"]:\n",
    "        word_replace_count.append(2)\n",
    "    elif j in[\"D\",\"E\",\"F\"]:\n",
    "        word_replace_count.append(3)\n",
    "    elif j in[\"G\",\"H\",\"I\"]:\n",
    "        word_replace_count.append(4)\n",
    "    elif j in[\"J\",\"K\",\"L\"]:\n",
    "        word_replace_count.append(5)\n",
    "    elif j in[\"M\",\"N\",\"O\"]:\n",
    "        word_replace_count.append(6)\n",
    "    elif j in[\"P\",\"Q\",\"R\",\"S\"]:\n",
    "        word_replace_count.append(7)\n",
    "    elif j in[\"T\",\"U\",\"V\"]:\n",
    "        word_replace_count.append(8)\n",
    "    elif j in[\"W\",\"X\",\"Y\",\"Z\"]:\n",
    "        word_replace_count.append(9)\n",
    "\n",
    "# 그다음 초 계산\n",
    "total_time = sum(word_replace_count)+len(word_replace_count)\n",
    "\n",
    "# 시간 계산값 출력\n",
    "print(total_time)"
   ]
  }
 ],
 "metadata": {
  "kernelspec": {
   "display_name": "Python 3",
   "language": "python",
   "name": "python3"
  },
  "language_info": {
   "name": "python",
   "version": "3.9.9 (tags/v3.9.9:ccb0e6a, Nov 15 2021, 18:08:50) [MSC v.1929 64 bit (AMD64)]"
  },
  "orig_nbformat": 4,
  "vscode": {
   "interpreter": {
    "hash": "20917bf6f99d1a5ddbc5e28f9055f09f315bcc64bccda888d1f584e60d3b17d4"
   }
  }
 },
 "nbformat": 4,
 "nbformat_minor": 2
}
