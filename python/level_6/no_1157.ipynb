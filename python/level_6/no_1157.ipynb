{
 "cells": [
  {
   "attachments": {},
   "cell_type": "markdown",
   "metadata": {},
   "source": [
    "# 1157번\n",
    ">> 알파벳 대소문자로 된 단어가 주어지면, 이 단어에서 가장 많이 사용된 알파벳이 무엇인지 알아내는 프로그램을 작성하시오. 단, 대문자와 소문자를 구분하지 않는다."
   ]
  },
  {
   "cell_type": "code",
   "execution_count": 19,
   "metadata": {},
   "outputs": [
    {
     "name": "stdout",
     "output_type": "stream",
     "text": [
      "A\n"
     ]
    }
   ],
   "source": [
    "import string\n",
    "\n",
    "word = input().upper()\n",
    "word_list = []\n",
    "for i in range(0,len(word),1):\n",
    "    word_list.append(word[i])\n",
    "# 주어진 단어에서 중복 알파벳 제거\n",
    "word_set = set(word_list)\n",
    "word_list = list(word_set)\n",
    "\n",
    "count_list = []\n",
    "for j in word_list :\n",
    "    count_list.append(word.count(j))\n",
    "\n",
    "\n",
    "\n",
    "if count_list.count(max(count_list))>1 :\n",
    "    print(\"?\")\n",
    "else :\n",
    "    print(word_list[count_list.index(max(count_list))])\n"
   ]
  },
  {
   "cell_type": "code",
   "execution_count": 4,
   "metadata": {},
   "outputs": [
    {
     "data": {
      "text/plain": [
       "2"
      ]
     },
     "execution_count": 4,
     "metadata": {},
     "output_type": "execute_result"
    }
   ],
   "source": [
    "string = \"aaabbc\"\n",
    "string.count(\"a\")\n",
    "\n",
    "a = [2,3,78,1,0,78]\n",
    "a.index(max(a))"
   ]
  },
  {
   "cell_type": "code",
   "execution_count": 14,
   "metadata": {},
   "outputs": [
    {
     "data": {
      "text/plain": [
       "'AAVV'"
      ]
     },
     "execution_count": 14,
     "metadata": {},
     "output_type": "execute_result"
    }
   ],
   "source": [
    "\"aavv\".upper()"
   ]
  },
  {
   "cell_type": "code",
   "execution_count": null,
   "metadata": {},
   "outputs": [],
   "source": []
  }
 ],
 "metadata": {
  "kernelspec": {
   "display_name": "Python 3",
   "language": "python",
   "name": "python3"
  },
  "language_info": {
   "codemirror_mode": {
    "name": "ipython",
    "version": 3
   },
   "file_extension": ".py",
   "mimetype": "text/x-python",
   "name": "python",
   "nbconvert_exporter": "python",
   "pygments_lexer": "ipython3",
   "version": "3.9.9"
  },
  "orig_nbformat": 4,
  "vscode": {
   "interpreter": {
    "hash": "20917bf6f99d1a5ddbc5e28f9055f09f315bcc64bccda888d1f584e60d3b17d4"
   }
  }
 },
 "nbformat": 4,
 "nbformat_minor": 2
}
