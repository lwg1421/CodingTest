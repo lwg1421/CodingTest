{
 "cells": [
  {
   "attachments": {},
   "cell_type": "markdown",
   "metadata": {},
   "source": [
    "# 2941번\n",
    "\n",
    ">> 예전에는 운영체제에서 크로아티아 알파벳을 입력할 수가 없었다. 따라서, 다음과 같이 크로아티아 알파벳을 변경해서 입력했다.\n",
    "\n",
    ">> 예를 들어, ljes=njak은 크로아티아 알파벳 6개(lj, e, š, nj, a, k)로 이루어져 있다. 단어가 주어졌을 때, 몇 개의 크로아티아 알파벳으로 이루어져 있는지 출력한다.\n",
    "\n",
    ">> dž는 무조건 하나의 알파벳으로 쓰이고, d와 ž가 분리된 것으로 보지 않는다. lj와 nj도 마찬가지이다. 위 목록에 없는 알파벳은 한 글자씩 센다."
   ]
  },
  {
   "cell_type": "code",
   "execution_count": null,
   "metadata": {},
   "outputs": [],
   "source": [
    "# 문자열 입력받기\n",
    "string = input()\n",
    "\n",
    "# 변경 전, 변경 후 크로아티아 문자 리스트\n",
    "cro = [\"č\",\"ć\",\"dž\",\"đ\",\"lj\",\"nj\",\"š\",\"ž\"]\n",
    "after_cro = [\"c=\",\"c-\",\"dz=\",\"d-\",\"lj\",\"nj\",\"s=\",\"z=\"]\n",
    "\n",
    "# 입력받은 문자중에 변경된 문자가 있는지 확인하고 크로아티아 문자로 변경해줌\n",
    "string_replace = string.replace(\"c=\",\"č\").replace(\"c-\",\"ć\").replace(\"dz=\",\"dž\").replace(\"d-\",\"đ\").replace(\"s=\",\"š\").replace(\"z=\",\"ž\")\n",
    "\n",
    "# 알파벳과 크로아티아 알파벳 포함시킨 리스트 생성\n",
    "from string import ascii_lowercase\n",
    "\n",
    "alphabet_list = list(ascii_lowercase)\n",
    "total_alphabet_list = alphabet_list+cro\n",
    "\n",
    "sum=0\n",
    "#  리스트에 있는 알파벳들 개수 세주기\n",
    "for i in total_alphabet_list:\n",
    "    sum+=string_replace.count(i)\n",
    "\n",
    "# lj나 nj가 있을 경우 l,j,n를 카운트한 개수는 빼주기\n",
    "if string_replace.count(\"lj\")>0 or string_replace.count(\"nj\")>0 or string_replace.count(\"dž\")>0:\n",
    "    print(sum-string_replace.count(\"lj\")*2-string_replace.count(\"nj\")*2-string_replace.count(\"dž\")*2)\n",
    "else :\n",
    "    print(sum)"
   ]
  }
 ],
 "metadata": {
  "kernelspec": {
   "display_name": "Python 3",
   "language": "python",
   "name": "python3"
  },
  "language_info": {
   "name": "python",
   "version": "3.9.9 (tags/v3.9.9:ccb0e6a, Nov 15 2021, 18:08:50) [MSC v.1929 64 bit (AMD64)]"
  },
  "orig_nbformat": 4,
  "vscode": {
   "interpreter": {
    "hash": "20917bf6f99d1a5ddbc5e28f9055f09f315bcc64bccda888d1f584e60d3b17d4"
   }
  }
 },
 "nbformat": 4,
 "nbformat_minor": 2
}
