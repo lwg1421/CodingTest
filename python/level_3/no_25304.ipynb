{
 "cells": [
  {
   "attachments": {},
   "cell_type": "markdown",
   "metadata": {},
   "source": [
    "# 25304번\n",
    "\n",
    ">> 준원이는 저번 주에 살면서 처음으로 코스트코를 가 봤다. 정말 멋졌다. 그런데, 몇 개 담지도 않았는데 수상하게 높은 금액이 나오는 것이다! 준원이는 영수증을 보면서 정확하게 계산된 것이 맞는지 확인해보려 한다.\n",
    "\n",
    ">> 영수증에 적힌,\n",
    "\n",
    "- 구매한 각 물건의 가격과 개수\n",
    "- 구매한 물건들의 총 금액\n",
    ">> 을 보고, 구매한 물건의 가격과 개수로 계산한 총 금액이 영수증에 적힌 총 금액과 일치하는지 검사해보자."
   ]
  },
  {
   "cell_type": "code",
   "execution_count": 2,
   "metadata": {},
   "outputs": [
    {
     "name": "stdout",
     "output_type": "stream",
     "text": [
      "Yes\n"
     ]
    }
   ],
   "source": [
    "# 영수증에 적힌 총 금액 X\n",
    "X = int(input())\n",
    "\n",
    "# 영수증에 적힌 구매한 물건의 종류의 수 N\n",
    "N = int(input())\n",
    "\n",
    "# 물건의 가격 a, 개수 b\n",
    "sum = 0\n",
    "count = 1\n",
    "while count<=N :\n",
    "    a,b = map(int,input().split())\n",
    "    sum = sum+(a*b)\n",
    "    count+=1\n",
    "if sum == X :\n",
    "    print(\"Yes\")\n",
    "else :\n",
    "    print(\"No\")\n"
   ]
  }
 ],
 "metadata": {
  "kernelspec": {
   "display_name": "Python 3",
   "language": "python",
   "name": "python3"
  },
  "language_info": {
   "codemirror_mode": {
    "name": "ipython",
    "version": 3
   },
   "file_extension": ".py",
   "mimetype": "text/x-python",
   "name": "python",
   "nbconvert_exporter": "python",
   "pygments_lexer": "ipython3",
   "version": "3.9.9"
  },
  "orig_nbformat": 4,
  "vscode": {
   "interpreter": {
    "hash": "20917bf6f99d1a5ddbc5e28f9055f09f315bcc64bccda888d1f584e60d3b17d4"
   }
  }
 },
 "nbformat": 4,
 "nbformat_minor": 2
}
